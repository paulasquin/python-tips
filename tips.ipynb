{
 "cells": [
  {
   "cell_type": "markdown",
   "metadata": {},
   "source": [
    "# Python tips diary"
   ]
  },
  {
   "cell_type": "markdown",
   "metadata": {},
   "source": [
    "## Multiple conditon extraction with np.argwhere"
   ]
  },
  {
   "cell_type": "code",
   "execution_count": 1,
   "metadata": {},
   "outputs": [
    {
     "name": "stdout",
     "output_type": "stream",
     "text": [
      "Position of positive digits\n",
      "[[3 3]\n",
      " [4 4]]\n"
     ]
    }
   ],
   "source": [
    "import numpy as np\n",
    "\n",
    "a = np.zeros((5, 5))\n",
    "a[1, 1] = 10\n",
    "a[3, 3] = 3\n",
    "a[4, 4] = 5\n",
    "\n",
    "positive_digit = np.argwhere((a[:,:] > 0) & (a[:,:] < 10))\n",
    "print(\"Position of positive digits\")\n",
    "print(positive_digit)"
   ]
  },
  {
   "cell_type": "markdown",
   "metadata": {},
   "source": [
    "## Make a text blink\n",
    "Termcolor : https://pypi.org/project/termcolor/  \n",
    "Note: doesn't work on jupyter notebook, but work on terminal"
   ]
  },
  {
   "cell_type": "code",
   "execution_count": 2,
   "metadata": {},
   "outputs": [
    {
     "name": "stdout",
     "output_type": "stream",
     "text": [
      "\u001b[5m\u001b[41m\u001b[37mHello world!\u001b[0m\n"
     ]
    }
   ],
   "source": [
    "import termcolor\n",
    "termcolor.cprint(\"Hello world!\", 'white', 'on_red', attrs=['blink'])"
   ]
  },
  {
   "cell_type": "markdown",
   "metadata": {},
   "source": [
    "## Fill string numbers with zeros"
   ]
  },
  {
   "cell_type": "code",
   "execution_count": 3,
   "metadata": {},
   "outputs": [
    {
     "name": "stdout",
     "output_type": "stream",
     "text": [
      "0001\n",
      "0011\n",
      "0222\n",
      "0aaa\n",
      "1234\n"
     ]
    }
   ],
   "source": [
    "for i in [1, 11, 222, \"aaa\", 1234]:\n",
    "    print(str(i).zfill(4))"
   ]
  },
  {
   "cell_type": "markdown",
   "metadata": {},
   "source": [
    "## Passwork input"
   ]
  },
  {
   "cell_type": "code",
   "execution_count": 4,
   "metadata": {},
   "outputs": [
    {
     "name": "stdout",
     "output_type": "stream",
     "text": [
      "Please enter password:········\n"
     ]
    }
   ],
   "source": [
    "import getpass                                                                       \n",
    "password = getpass.getpass(\"Please enter password:\")"
   ]
  },
  {
   "cell_type": "markdown",
   "metadata": {},
   "source": [
    "## Identify what is taking computational time\n",
    "Note : use with jupyter notebook\n"
   ]
  },
  {
   "cell_type": "code",
   "execution_count": 5,
   "metadata": {},
   "outputs": [
    {
     "name": "stdout",
     "output_type": "stream",
     "text": [
      " "
     ]
    }
   ],
   "source": [
    "import random\n",
    "import numpy as np\n",
    "\n",
    "def test_prun_1():\n",
    "    a = [random.randint(1, 100) for _ in range(1000)]\n",
    "    a.sort()\n",
    "    return a\n",
    "\n",
    "def test_prun_2():\n",
    "    for i in range(100):\n",
    "        b = np.random.rand(1000, 1000)\n",
    "        c = b*b\n",
    "\n",
    "def test_prun():\n",
    "    test_prun_1()\n",
    "    test_prun_2()\n",
    "    \n",
    "\n",
    "%prun test_prun()"
   ]
  },
  {
   "cell_type": "markdown",
   "metadata": {},
   "source": [
    "## Check if process is running"
   ]
  },
  {
   "cell_type": "code",
   "execution_count": 6,
   "metadata": {},
   "outputs": [
    {
     "name": "stdout",
     "output_type": "stream",
     "text": [
      "Requirement already satisfied: psutil in /home/paul/anaconda3/lib/python3.7/site-packages (5.4.8)\r\n"
     ]
    }
   ],
   "source": [
    "!pip install psutil"
   ]
  },
  {
   "cell_type": "code",
   "execution_count": 7,
   "metadata": {},
   "outputs": [
    {
     "name": "stdout",
     "output_type": "stream",
     "text": [
      "chrome process running: 14\n"
     ]
    }
   ],
   "source": [
    "import psutil\n",
    "\n",
    "print(\"chrome process running:\", \n",
    "      len([p.info for p in psutil.process_iter(attrs=['name']) if 'chrome' in p.info['name']]))"
   ]
  },
  {
   "cell_type": "markdown",
   "metadata": {},
   "source": [
    "## Display emoji"
   ]
  },
  {
   "cell_type": "code",
   "execution_count": 8,
   "metadata": {},
   "outputs": [
    {
     "name": "stdout",
     "output_type": "stream",
     "text": [
      "Requirement already satisfied: emoji in /home/paul/anaconda3/lib/python3.7/site-packages (0.5.1)\r\n"
     ]
    }
   ],
   "source": [
    "!pip install emoji"
   ]
  },
  {
   "cell_type": "code",
   "execution_count": 9,
   "metadata": {
    "scrolled": true
   },
   "outputs": [
    {
     "name": "stdout",
     "output_type": "stream",
     "text": [
      "🚀\n"
     ]
    }
   ],
   "source": [
    "from emoji import emojize\n",
    "print(emojize(\":rocket:\"))"
   ]
  }
 ],
 "metadata": {
  "kernelspec": {
   "display_name": "Python 3",
   "language": "python",
   "name": "python3"
  },
  "language_info": {
   "codemirror_mode": {
    "name": "ipython",
    "version": 3
   },
   "file_extension": ".py",
   "mimetype": "text/x-python",
   "name": "python",
   "nbconvert_exporter": "python",
   "pygments_lexer": "ipython3",
   "version": "3.7.1"
  }
 },
 "nbformat": 4,
 "nbformat_minor": 2
}
