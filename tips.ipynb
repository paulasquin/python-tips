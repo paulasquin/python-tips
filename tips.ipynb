{
 "cells": [
  {
   "cell_type": "markdown",
   "metadata": {},
   "source": [
    "# Python tips memory"
   ]
  },
  {
   "cell_type": "markdown",
   "metadata": {},
   "source": [
    "## Multiple conditon extraction with np.argwhere"
   ]
  },
  {
   "cell_type": "code",
   "execution_count": 1,
   "metadata": {},
   "outputs": [
    {
     "name": "stdout",
     "output_type": "stream",
     "text": [
      "Position of positive digits\n",
      "[[3 3]\n",
      " [4 4]]\n"
     ]
    }
   ],
   "source": [
    "import numpy as np\n",
    "\n",
    "a = np.zeros((5, 5))\n",
    "a[1, 1] = 10\n",
    "a[3, 3] = 3\n",
    "a[4, 4] = 5\n",
    "\n",
    "positive_digit = np.argwhere((a[:,:] > 0) & (a[:,:] < 10))\n",
    "print(\"Position of positive digits\")\n",
    "print(positive_digit)"
   ]
  },
  {
   "cell_type": "markdown",
   "metadata": {},
   "source": [
    "## Make a text blink\n",
    "Termcolor : https://pypi.org/project/termcolor/  \n",
    "Note: doesn't work on jupyter notebook, but work on terminal"
   ]
  },
  {
   "cell_type": "code",
   "execution_count": 2,
   "metadata": {},
   "outputs": [
    {
     "name": "stdout",
     "output_type": "stream",
     "text": [
      "\u001b[5m\u001b[41m\u001b[37mHello world!\u001b[0m\n"
     ]
    }
   ],
   "source": [
    "import termcolor\n",
    "termcolor.cprint(\"Hello world!\", 'white', 'on_red', attrs=['blink'])"
   ]
  }
 ],
 "metadata": {
  "kernelspec": {
   "display_name": "Python 3",
   "language": "python",
   "name": "python3"
  },
  "language_info": {
   "codemirror_mode": {
    "name": "ipython",
    "version": 3
   },
   "file_extension": ".py",
   "mimetype": "text/x-python",
   "name": "python",
   "nbconvert_exporter": "python",
   "pygments_lexer": "ipython3",
   "version": "3.7.1"
  }
 },
 "nbformat": 4,
 "nbformat_minor": 2
}
